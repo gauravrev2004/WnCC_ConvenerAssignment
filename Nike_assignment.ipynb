{
 "cells": [
  {
   "cell_type": "code",
   "execution_count": 28,
   "id": "675cc76f",
   "metadata": {},
   "outputs": [
    {
     "name": "stdout",
     "output_type": "stream",
     "text": [
      "Product Name,Category,MRP(in Rupees)\n",
      "Nike Tech Hera,Women's Shoes, 9 695.00\n",
      "Nike Air Max TW,Men's Shoes, 14 995.00\n",
      "Nike Air Force 1 '07,Men's Shoes, 7 495.00\n",
      "Nike Air Force 1 React,Men's Shoes, 13 295.00\n",
      "Nike Rift 2,Big/Younger Kids' Shoes, 6 295.00\n",
      "Nike Sunray Adjust 6,Older Kids' Slides, 2 995.00\n",
      "Nike Air Force 1 LE,Older Kids' Shoe, 6 295.00\n",
      "Nike Air Max 97,Men's Shoes, 16 995.00\n",
      "Air Jordan 1 Elevate Low,Women's Shoes, 11 895.00\n",
      "NikeCourt Legacy,Men's Shoes, 5 695.00\n",
      "Nike Oneonta Next Nature,Men's Sandals, 5 695.00\n",
      "Nike Icon Classic,Women's Sandals, 4 695.00\n",
      "Jordan Post,Men's Slides, 2 195.00\n",
      "Nike ISPA Universal,Men's Shoes, 9 695.00\n",
      "Nike Air Max Koko,Women's Sandal, 7 995.00\n",
      "Nike Blazer Low '77 Jumbo,Men's Shoes, 9 195.00\n",
      "Jordan Crater,Slides, 7 495.00\n",
      "Nike Tech Hera,Women's Shoes, 9 695.00\n",
      "Nike Victori One,Men's Slide, 2 095.00\n",
      "Jordan Hex,Women's Slides, 4 195.00\n",
      "Nike Air Max Koko,Women's Sandals, 9 195.00\n",
      "Nike Blazer Low '77 Vintage,Men's Shoes, 7 495.00\n",
      "Nike Air Max 90,Men's Shoes, 10 795.00\n",
      "Nike Waffle One SE,Men's Shoes, 9 695.00\n",
      "\n"
     ]
    }
   ],
   "source": [
    "import requests\n",
    "from bs4 import BeautifulSoup\n",
    "import csv\n",
    "\n",
    "# Send a GET request to the website\n",
    "url = \"https://www.nike.com/in/w/summer-shop-shoes-2etw7zy7ok\"\n",
    "response = requests.get(url)\n",
    "\n",
    "# Create a BeautifulSoup object to parse the HTML content\n",
    "soup = BeautifulSoup(response.content, \"html.parser\")\n",
    "\n",
    "# Find all product cards on the page\n",
    "product_cards = soup.find_all(\"div\", class_=\"product-card__body\")\n",
    "\n",
    "# Define a list to store the extracted data\n",
    "data = []\n",
    "\n",
    "# Iterate over the product cards and extract the desired information\n",
    "for card in product_cards:\n",
    "    # Extract the product name\n",
    "    product_name = card.find(\"div\", class_=\"product-card__title\").text.strip()\n",
    "    \n",
    "    # Extract the MRP\n",
    "    mrp = card.find(\"div\", class_=\"product-price__wrapper\").text.strip().replace(\"MRP : ₹ \", \" \")\n",
    "    \n",
    "    # Extract the Category\n",
    "    Category = card.find(\"div\", class_=\"product-card__subtitle\").text.strip()\n",
    "    \n",
    "    # Append the data to the list\n",
    "    data.append([product_name,Category, mrp])\n",
    "\n",
    "# Define the CSV file path\n",
    "csv_file = \"product_data.csv\"\n",
    "\n",
    "# Write the data to a CSV file\n",
    "with open(csv_file, \"w\", newline=\"\", encoding=\"utf-8\") as file:\n",
    "    writer = csv.writer(file)\n",
    "    writer.writerow([\"Product Name\",\"Category\", \"MRP(in Rupees)\"])\n",
    "    writer.writerows(data)\n",
    "\n",
    "# Print the CSV file contents\n",
    "with open(\"product_data.csv\", \"r\") as file:\n",
    "    csv_data = file.read()\n",
    "\n",
    "print(csv_data)"
   ]
  }
 ],
 "metadata": {
  "kernelspec": {
   "display_name": "Python 3 (ipykernel)",
   "language": "python",
   "name": "python3"
  },
  "language_info": {
   "codemirror_mode": {
    "name": "ipython",
    "version": 3
   },
   "file_extension": ".py",
   "mimetype": "text/x-python",
   "name": "python",
   "nbconvert_exporter": "python",
   "pygments_lexer": "ipython3",
   "version": "3.10.9"
  }
 },
 "nbformat": 4,
 "nbformat_minor": 5
}
